{
 "cells": [
  {
   "cell_type": "markdown",
   "metadata": {
    "id": "eYakJtwBHqYG"
   },
   "source": [
    "<p><img src=\"https://progra-fing-usach.github.io/IMGs/logo-fing.png\" alt=\"LogoUSACH\" width=\"40%\" align=\"right\" hspace=\"10px\" vspace=\"0px\"></p>\n",
    "\n",
    "# Archivos"
   ]
  },
  {
   "cell_type": "markdown",
   "metadata": {
    "id": "GCLydi8DoJX7"
   },
   "source": [
    "## Definición"
   ]
  },
  {
   "cell_type": "code",
   "execution_count": null,
   "metadata": {
    "colab": {
     "base_uri": "https://localhost:8080/"
    },
    "executionInfo": {
     "elapsed": 2432,
     "status": "ok",
     "timestamp": 1654470530803,
     "user": {
      "displayName": "Alfredo Gonzalezf",
      "userId": "10271437243951850394"
     },
     "user_tz": 240
    },
    "id": "kLw3ek4dIEkJ",
    "outputId": "8e07535c-995e-4710-ffd6-61b45fcccc8a"
   },
   "outputs": [
    {
     "name": "stdout",
     "output_type": "stream",
     "text": [
      "Drive already mounted at /content/drive; to attempt to forcibly remount, call drive.mount(\"/content/drive\", force_remount=True).\n"
     ]
    }
   ],
   "source": [
    "# Importación para cargar el propio directorio de Drive en Google Colab\n",
    "from google.colab import drive\n",
    "# La cuenta de Google Drive estará en la carpeta señalada\n",
    "drive.mount('/content/drive')"
   ]
  },
  {
   "cell_type": "markdown",
   "metadata": {
    "id": "HzduIbe63wDy"
   },
   "source": [
    "Hasta ahora solo se ha trabajado obteniendo información solicitándola al usuario mediante el uso del teclado (con ayuda de la función `input()`), pero existen otras fuentes de donde poder obtener datos para poder realizar los procesos solicitados. En esta unidad, se extraerá la información desde archivos (también conocidos como ficheros). Estos se caracterizan por tener una **ruta** o dirección, un **nombre** específico y un formato determinado. Esta información es de vital importancia al momento de querer generar una extracción de datos, puesto que, de no tenerla o escribirla de manea errada, puede ocasionar que Python no logre la comunicación con el documento y, por ende, falle la extracción de información.\n",
    "\n",
    "Considerando que este curso es una introducción a la programación, solo se trabajará con archivos de texto plano, los que pueden ser de solo texto (cuya extensión tradicional es `.txt`) y archivos de valores separados por coma (con extensión `.csv`, normalmente).\n",
    "\n",
    "Para lograr extraer la información desde el documento, se debe trabajar con un nuevo tipo de objeto, el cual se conoce como **`File`**, y entrega las herramientas necesarias (métodos) para poder interactuar con los archivos mencionados."
   ]
  },
  {
   "cell_type": "markdown",
   "metadata": {},
   "source": [
    "## Generalidades sobre archivos"
   ]
  },
  {
   "cell_type": "markdown",
   "metadata": {},
   "source": [
    "## Sistemas de Archivos"
   ]
  },
  {
   "cell_type": "markdown",
   "metadata": {},
   "source": [
    "En términos burdos, un **archivo** es un compartimiento de almacenamiento en el computador, que es manejado por el sistema operativo. Estos compartimientos corresponden a cadenas de datos (en forma de cadenas de bytes) que residene en algún sistema de almacenamiento, generalmente persistente (como un disco duro, uno de estado sólido, una memoria flash, etc.), es decir, que no se pierde cuando uno apaga el sistema (como es el caso de la memoria RAM: una vez apagamos el computador, todo lo que tenía esta, se pierde).\n",
    "\n",
    "Llamamos **sistema de archivos** a la forma en que se organizan los archivos y carpetas dentro de un sistema computacional. Un **directorio** o **carpeta** es una colección de archivos y otros directorios. Esto significa que hay una jerarquía de directorios: el más alto es la **raíz**, que viene de que tratamos la relación entre directorios como un árbol, donde los archivos son las \"hojas\" y los directorios, las \"ramas\".\n",
    "\n",
    "Dos de los modelos de sistema de archivos más importantes son los utilizados por sistemas Windows y por sistemas basados en Unix, como Linux o MacOS:\n",
    "- Windows utiliza una organización donde, por defecto, cada unidad de disco tiene su propia raíz. Por ejemplo, el disco donde normalmente está instalado el sistema en equipos nuevos es `C:` y el directorio con el sistema operativo es `C:\\Windows` y la que contiene a los usuarios, `C:\\Users`. Si tenemos el directorio de usuarios en otra unidad de disco, por ejemplo, `D:`, entonces la ubicación de esta sería `D:\\Users`. Si tenemos un usuario llamado \"Fulano\", sus archivos estarán en `D:\\Users\\Fulano`. Nota que el nombre de cada directorio se separa de su padre o su hijo con el caracter *backslash* (`\\`).\n",
    "\n",
    "<div style=\"text-align:center\">\n",
    "    <img src=\"http://www.eprisner.de/CPT105/PicFiles/tree.gif\" />\n",
    "</div>\n",
    "\n",
    "**Figura 1:** Ejemplo de árbol de directorios en un sistema Windows. Cada unidad es una raíz independiente.\n",
    "\n",
    "- Los sistemas basados en Unix utilizan un único árbol de directorios, donde las diferentes unidades de discos se \"montan\" en carpetas dentro de esta estructura. El directorio raíz es `/` y suelen tener una carpeta llamada `home` para los datos de los distintos usuarios. Si tenemos un usuario llamado \"fulano\" (los nombres de usuario en Linux son en minúsculas), su carpeta de usuario estaría en `/home/fulano`. Si tenemos un disco duro que hemos llamado \"datos\", podemos montarlo en alguna carpeta como `/mount` y su ubicación sería `/mount/datos`.\n",
    "\n",
    "<div style=\"text-align:center\">\n",
    "    <img src=\"https://4.bp.blogspot.com/-iU-fdru9JEQ/XJVIJnSpGuI/AAAAAAAAA5Q/YmfPmTHXvAgvUbiAOiBJXC9hNnlYX1pigCLcBGAs/s1600/File_Tree.png\" />\n",
    "</div>\n",
    "\n",
    "**Figura 2:** Ejemplo de árbol de directorios en un sistema Linux. Una sola raíz para todo el sistema."
   ]
  },
  {
   "cell_type": "markdown",
   "metadata": {},
   "source": [
    "### Rutas y Nombres de Archivos"
   ]
  },
  {
   "cell_type": "markdown",
   "metadata": {},
   "source": [
    "Es posible tener en el mismo sistema dos o más archivos con el mismo nombre, así que surge la pregunta: ¿cómo los distinguimos? Por su **ruta** (en inglés, se habla de su *path*). La ruta de un archivo (o directorio) es la secuencia de directorios que debemos recorrer para llegar al archivo (o directorio).\n",
    "\n",
    "En sistemas basados en Unix, se separa cada elemento de la ruta por *slash* (`/`), mientras que, en Windows, por *backslash* (`\\`). Así, si tenemos un archivo llamado `potato.txt` que está guardado en la carpeta \"Documents\" de mi carpeta de usuario, siendo mi nombre de usuario \"Fulano\", la ruta de este archivo sería:\n",
    "- En Windows: `C:\\Users\\Fulano\\Documents\\potato.txt` (es decir, en el disco `C:`, ve a la carpeta Users; de allí, a Fulano; a continuación, a Documents, y dentro de ella, está el archivo).\n",
    "- En Linux: `/home/fulano/Documents/potato.txt` (es decir, desde la raíz, ve a la carpeta home, luego a fulano, siguiendo con Documents y allí está el archivo).\n",
    "\n",
    "Este tipo de ruta se conoce como **ruta absoluta**, porque declaramos el camino *absoluto* que hacemos  para llegar desde la raíz hasta el elemento que queremos acceder."
   ]
  },
  {
   "cell_type": "markdown",
   "metadata": {},
   "source": [
    "#### Ruta Relativa y Directorio de Trabajo"
   ]
  },
  {
   "cell_type": "markdown",
   "metadata": {},
   "source": [
    "Todo programa que ejecutamos tiene un **directorio de trabajo**, es decir, el directorio en el que está siendo ejecutado nuestro programa. En Python, lo podemos obtener gracias al módulo `os` (si recuerdas, este es para cosas que tengan que ver con el sistema operativo):"
   ]
  },
  {
   "cell_type": "code",
   "execution_count": 1,
   "metadata": {},
   "outputs": [
    {
     "name": "stdout",
     "output_type": "stream",
     "text": [
      "/home/javier/workspace/usach/Material/Lecturas/08 - Archivos\n"
     ]
    }
   ],
   "source": [
    "import os\n",
    "\n",
    "# \"cwd\" son las iniciales de \"current working directory\", es decir,\n",
    "# directorio actual de trabajo\n",
    "print(os.getcwd())"
   ]
  },
  {
   "cell_type": "markdown",
   "metadata": {},
   "source": [
    "Esto es relevante, pues existe otra forma de acceder a los archivos y directorios, que es mediante la **ruta relativa**: esta consiste en pensarlo como \"a partir de este lugar, debes ir hacia ese otro directorio\". Para ello, tenemos que considerar algunos elementos de la ruta:\n",
    "- Cuando no decimos cuál es el directorio donde está el archivo, queremos decir \"en este directorio\". Por ejemplo, la ruta `entrada.txt` significa \"en este directorio, el archivo 'entrada.txt'\".\n",
    "- El caracter punto (`.`) significa \"este directorio\". Un sinónimo del caso anterior es `./entrada.txt`: en este directorio, el archivo 'entrada.txt'.\n",
    "- La combinación de dos puntos seguidos (`..`) significa \"en el directorio superior\" (también llamado \"directorio padre\"). Por ejemplo, `../../readme.md` significa \"en el directorio superior, vamos al directorio superior a ese y allí está el archivo 'readme.md'\".\n",
    "\n",
    "(Recuerda cambiar `/` por `\\` en Windows.)\n",
    "\n",
    "Podemos mezclar esto de varias formas. Por ejemplo:\n",
    "- `./../aquí`: el archivo o directorio \"aquí\" en la carpeta superior a la actual.\n",
    "- `../Documents/archivo.docx`: el archivo \"archivo.docx\" que está en la carpeta Documents, que se encuentra en la carpeta superior a esta."
   ]
  },
  {
   "cell_type": "markdown",
   "metadata": {
    "id": "N5atumyM4l8W"
   },
   "source": [
    "## Apertura de Archivos"
   ]
  },
  {
   "cell_type": "markdown",
   "metadata": {
    "id": "Nw1wYhxE4oaV"
   },
   "source": [
    "Para lograr la comunicación deseada, lo primero que se necesita hacer es abrir el documento y realizar la lectura respectiva de la información que contiene el archivo. Para ello se utiliza el siguiente mecanismo:\n",
    "\n",
    "```python\n",
    "with open(<nombre_archivo_con_extensión>,<modo_acceso>) as <identificador>:\n",
    "```\n",
    "\n",
    "*   El **`nombre_archivo_con_extensión`**: es el nombre con el que se comunicará el programa. A modo de ejemplo, `\"datos_covid.txt\"`.\n",
    "*   El **`modo_acceso`** es la sigla con la que se indica la acción que se desea realizar con el archivo de texto. Debe ser entregado en formato `string`. A nivel de curso, se verán tres opciones para acceder a un archivo:\n",
    "   *   **`r`**: del inglés *reading*, indica que el archivo será abierto en modo **lectura**:\n",
    "      *   El objeto File **podrá leer** la información del archivo, pero no está autorizado para modificarla.\n",
    "      *   En caso de no existir el archivo, el programa **arrojará un mensaje de error** (`FileNotFoundError`).\n",
    "      *   Este modo es el **modo por defecto**, por lo que si, al llamar a la función `open`, no se especifica el modo de acceso, este será **`r`**.\n",
    "   *   **`w`**: del inglés *writing*, indica que el archivo será abierto en modo **escritura**:\n",
    "      *   El objeto File **podrá escribir** información en el archivo.\n",
    "      *   En caso de no existir el archivo, el programa **creará un archivo en blanco** con el nombre indicado **en la misma dirección** en el que se encuentra el programa.\n",
    "      *   En caso de existir el archivo, el programa **borrará el contenido del archivo**.\n",
    "   *   **`a`**: del inglés *append* , indica que el archivo será abierto en modo de añadidura o **agregación**. En este modo:\n",
    "      *   El objeto File **podrá escribir** información en el archivo.\n",
    "      *   En caso de no existir el archivo, el programa **creará un archivo en blanco** con el nombre indicado **en la misma dirección** en el que se encuentra el programa.\n",
    "      *   Este caso de existir el archivo, el programa **escribirá luego del contenido del archivo**.\n",
    "\n",
    "Con lo anterior, se ha establecido la comunicación que se trendrá con el archivo de texto. No obstante, aún no se indica cómo se leerá o escribirá información desde o hacia el archivo respectivo."
   ]
  },
  {
   "cell_type": "markdown",
   "metadata": {
    "id": "IRHX82TpBM3H"
   },
   "source": [
    "## Métodos de archivos\n",
    "\n",
    "Para trabajar con archivos, Python ofrece algunas funciones y métodos propios del tipo de dato File.\n",
    "\n",
    "Entre los métodos más comunes se pueden mencionar:\n",
    "\n",
    "*   **`<archivo>.close()`**: indica que el archivo en uso debe **cerrarse**. Esto es necesario para que el archivo se guarde de manera correcta en el dispositivo de almacenamiento del equipo, es decir, enviar los datos desde la **memoria principal**, donde están siendo operados y consultados, al **disco duro** o unidad de datos, donde son almacenados de forma permanente. Cabe señalar que si se accede al archivo con el ambiente **with**, no es necesario cerrar el documento.\n",
    "*   **`<archivo>.readlines()`**: método que devuelve una **lista** en donde cada elemento es una línea del archivo leído.\n",
    "*   **`<archivo>.read()`**: método que devuelve un **string** con el contenido del archivo leído.\n",
    "* **`<archivo>.readline()`**: método que lee línea a línea los contenidos de un archivo. Cada vez que lo invoco entrega una nueva línea. Retorna un string vacío cuando ya no quedan contenidos por leer.\n",
    "*   **`<archivo>.write(<string>)`**: escribe un string en el archivo mencionado. Este string es el argumento del método `.write()`. Es importante mencionar que este método escribe un único string. Lo que significa que, si se desean escribir varios mensajes, se debe generar un único string mediante concatenaciones o repetir la operación `.write()` hasta completar el mensaje requerido. \n",
    "\n",
    " * Este método, escribe exactamente el string que el usuario le entregue, por lo que es necesario incorporar un salto de línea cada vez que se utilice (`\\n`) para pasar a la línea siguiente. \n"
   ]
  },
  {
   "cell_type": "markdown",
   "metadata": {
    "id": "lxAKTJmeHOGk"
   },
   "source": [
    "A continuación se muestran dos ejemplos de lectura de un documento utilizado los métodos  **`<archivo>.read()`** y **`<archivo>.readlines()`** respectivamente.\n",
    "\n",
    "Es importante destacar que los métodos de lectura, solo funcionan cuando el archivo está abierto en modo de lectura, mientras que los de escritura solo funcionan sobre archivos abiertos en modo de escritura o agregación."
   ]
  },
  {
   "cell_type": "code",
   "execution_count": null,
   "metadata": {
    "colab": {
     "base_uri": "https://localhost:8080/"
    },
    "executionInfo": {
     "elapsed": 321,
     "status": "ok",
     "timestamp": 1654470961303,
     "user": {
      "displayName": "Alfredo Gonzalezf",
      "userId": "10271437243951850394"
     },
     "user_tz": 240
    },
    "id": "PmIn09IXHTGj",
    "outputId": "69594e35-0d37-4795-af4e-0815a07ad041"
   },
   "outputs": [
    {
     "name": "stdout",
     "output_type": "stream",
     "text": [
      "HOLA\n",
      "Este es un texto de ejemplo\n",
      "Soy un archivo .txt, por lo que almaceno texto sin formato, y la única información que guardo es el texto mismo\n"
     ]
    }
   ],
   "source": [
    "# Ejemplo: lectura de archivo mediante el método .read()\n",
    "\n",
    "### BLOQUE DE DEFINICIONES\n",
    "\n",
    "## Definición de Funciones\n",
    "def leer_archivo(nombre_archivo):\n",
    "    \"\"\"Función que lee la información de un archivo de texto plano (.txt)\n",
    "\n",
    "    Entrada: 1 string (str)\n",
    "    Salida: 1 lista (list)\n",
    "    \"\"\"\n",
    "    with open(nombre_archivo,\"r\") as archivo:\n",
    "        texto = archivo.read()\n",
    "    return texto\n",
    "    \n",
    "### BLOQUE PRINCIPAL\n",
    "\n",
    "## Entrada\n",
    "# Se ingresa el nombre del archivo anteponiendo la dirección en donde se encuentra\n",
    "nombre_archivo = \"/content/drive/MyDrive/Proyecto Python/entrada.txt\"\n",
    "lectura = leer_archivo(nombre_archivo)\n",
    "\n",
    "## Salida\n",
    "print(lectura)"
   ]
  },
  {
   "cell_type": "code",
   "execution_count": null,
   "metadata": {
    "colab": {
     "base_uri": "https://localhost:8080/"
    },
    "executionInfo": {
     "elapsed": 337,
     "status": "ok",
     "timestamp": 1654470965281,
     "user": {
      "displayName": "Alfredo Gonzalezf",
      "userId": "10271437243951850394"
     },
     "user_tz": 240
    },
    "id": "66Jq42N4JnHL",
    "outputId": "484adfd0-108f-48e2-bc5f-803be96deb22"
   },
   "outputs": [
    {
     "name": "stdout",
     "output_type": "stream",
     "text": [
      "['HOLA\\n', 'Este es un texto de ejemplo\\n', 'Soy un archivo .txt, por lo que almaceno texto sin formato, y la única información que guardo es el texto mismo']\n"
     ]
    }
   ],
   "source": [
    "# Ejemplo: lectura de archivo mediante el método .readlines()\n",
    "\n",
    "### BLOQUE DE DEFINICIONES\n",
    "## Definición de Funciones\n",
    "def leer_archivo(nombre_archivo):\n",
    "    \"\"\"Función que lee la información de un archivo de texto plano (.txt)\n",
    "    Entrada: 1 string (str)\n",
    "    Salida: 1 lista (list)\n",
    "    \"\"\"\n",
    "    with open(nombre_archivo,\"r\") as archivo:\n",
    "        lista_texto = archivo.readlines()\n",
    "    return lista_texto\n",
    "    \n",
    "### BLOQUE PRINCIPAL\n",
    "## Entrada\n",
    "# Se ingresa el nombre delarchivo anteponiendo la dirección en donde se encuentra\n",
    "nombre_archivo = \"/content/drive/MyDrive/Proyecto Python/entrada.txt\"\n",
    "lectura = leer_archivo(nombre_archivo)\n",
    "\n",
    "## Salida\n",
    "print(lectura)"
   ]
  },
  {
   "cell_type": "markdown",
   "metadata": {
    "id": "Ehyj1eMxKE-s"
   },
   "source": [
    "Para aterrizar los conceptos vistos, se propone un ejercicio en el que se desea saber la cantidad de consonantes que tiene un determinado archivo de texto plano. Una vez que se obtenga la cantidad de consonantes, se debe agregar un mensaje al documento indicando lo siguiente:\n",
    "\n",
    "```\n",
    "La cantidad de consonantes que hay en este documento es de ...\n",
    "```"
   ]
  },
  {
   "cell_type": "code",
   "execution_count": null,
   "metadata": {
    "colab": {
     "base_uri": "https://localhost:8080/"
    },
    "executionInfo": {
     "elapsed": 310,
     "status": "ok",
     "timestamp": 1654471620139,
     "user": {
      "displayName": "Alfredo Gonzalezf",
      "userId": "10271437243951850394"
     },
     "user_tz": 240
    },
    "id": "iHt1NlMXKb-4",
    "outputId": "151da765-19d5-49b1-87ec-d85be7e84056"
   },
   "outputs": [
    {
     "data": {
      "text/plain": [
       "True"
      ]
     },
     "execution_count": 14,
     "metadata": {},
     "output_type": "execute_result"
    }
   ],
   "source": [
    "# Ejemplo: Programa que calcula la cantidad de consonante que tiene un archivo y lo informa en el mismo documento\n",
    "\n",
    "### BLOQUE DE DEFINICIONES\n",
    "## Definición de constantes\n",
    "VOCALES = \"AEIOU\"\n",
    "\n",
    "\n",
    "## Definición de Funciones\n",
    "def leer_archivo(nombre_archivo):\n",
    "    \"\"\"Función que lee la información de un archivo de texto plano (.txt)\n",
    "\n",
    "    Entrada: 1 string (str)\n",
    "    Salida: 1 lista (list)\n",
    "    \"\"\"\n",
    "    with open(nombre_archivo,\"r\") as archivo:\n",
    "        texto = archivo.read()\n",
    "    return texto\n",
    "\n",
    "\n",
    "def calcular_consonantes(texto):\n",
    "  \"\"\"Función que calcula las consonantes en el texto\n",
    "\n",
    "  Entrada: texto a evaluar (str)\n",
    "  Salida: cantidad de consonantes (int)\n",
    "  \"\"\"\n",
    "  texto = texto.upper()\n",
    "  i = 0\n",
    "  contador = 0\n",
    "\n",
    "  while i < len(texto):\n",
    "    if texto[i].isalpha() and not texto[i] in VOCALES:\n",
    "      contador = contador + 1\n",
    "    i = i + 1\n",
    "  return contador\n",
    "\n",
    "\n",
    "def escribir_archivo(nombre_archivo, contenido):\n",
    "  \"\"\"Función que añade la cantidad de consonantes al archivo\n",
    "\n",
    "  Entradas: nombre del archivo (str) y cantidad de consonantes (int)\n",
    "  Salida: True, si se realizó bien la escritura (fallo, en otro caso)\n",
    "  \"\"\"\n",
    "  contenido = str(contenido)\n",
    "  mensaje = \"La cantidad de consonantes que hay en este documento es de\" + contenido\n",
    "  \n",
    "  with open(nombre_archivo,\"a\") as archivo:\n",
    "    archivo.write(\"\\n\\n\" + mensaje)\n",
    "  return True\n",
    "\n",
    "    \n",
    "### BLOQUE PRINCIPAL\n",
    "## Entrada\n",
    "# Se ingresa el nombre del archivo anteponiendo la dirección en donde se encuentra\n",
    "nombre_archivo = \"/content/drive/MyDrive/Proyecto Python/entrada.txt\"\n",
    "lectura = leer_archivo(nombre_archivo)\n",
    "\n",
    "## Procesamiento\n",
    "consonantes = calcular_consonantes(lectura)\n",
    "\n",
    "## Salida\n",
    "escribir_archivo(nombre_archivo,consonantes)"
   ]
  },
  {
   "cell_type": "markdown",
   "metadata": {
    "id": "GnEgxFuJM2De"
   },
   "source": [
    "## Escritura usando `print()`\n",
    "\n",
    "Adicionalmente es posible escribir en archivos usando directamente la función `print()`, esta tiene algunos parámetros interesantes que no hemos mencionado hasta el momento.\n",
    "\n",
    "Estos parámetros especiales son de tipo keyword, es decir, debo usar su nombre para poder usarlos y son:\n",
    "* `sep`: indica cuál es el caracter para separar los elementos a imprimir (por defecto es el caracter espacio)\n",
    "* `end`: indica cuál es el caracter de fin (por defecto es un salto de línea)\n",
    "* `file`: indica en qué archivo queremos guardar el resultado del print(), para Python, la consola en la cuál nos muestra los resultados es un archivo más, por lo que podemos redirigir el resultado de la función a un archivo distinto cambiando este parámetro.\n",
    "\n",
    "\n",
    "Un ejemplo de escritura usando `print()` se presenta a continuación."
   ]
  },
  {
   "cell_type": "code",
   "execution_count": null,
   "metadata": {
    "id": "eJjd2s6yxc_P"
   },
   "outputs": [],
   "source": [
    "# Ejemplo: Escritura de dos líneas de texto en un archivo 'example.txt' usando print.\n",
    "nota_pedro = 5.0\n",
    "nota_juan = 6.7\n",
    "with open('example.txt', 'w') as arc:\n",
    "    print('Pedro', nota_pedro, sep=': ', file=arc)\n",
    "    print('Juan', nota_juan, sep=': ', file=arc)\n"
   ]
  },
  {
   "cell_type": "markdown",
   "metadata": {
    "id": "Mk_1J3UnxpbH"
   },
   "source": [
    "Vale la pena notar que en este caso no cambiamos el parámetro `end`, pues queremos que Python escriba un salto de línea al final de cada `print()`."
   ]
  },
  {
   "cell_type": "markdown",
   "metadata": {
    "id": "ofITXWUCyDYi"
   },
   "source": [
    "## PRECAUCIONES SOBRE ARCHIVOS\n",
    "\n"
   ]
  },
  {
   "cell_type": "markdown",
   "metadata": {
    "id": "ScHRq54FydeG"
   },
   "source": [
    "Un aspecto importante a considerar es que al usar archivos estamos manipulando directamente el disco duro de nuestro computador y por lo tanto podemos:\n",
    "* Sobre-escribir elementos importantes.\n",
    "* Corromper archivos existentes.\n",
    "* Crear programas que agreguen información al disco duro hasta llenarlo.\n",
    "\n",
    "Por ejemplo, el código presentado a continuación escribe 1.000 archivos en la misma carpeta del programa, sin embargo, si yo validara mal la condición del while e hiciera un ciclo infinito, podría construir un programa que creara millones de copias del archivo, como estas tienen nombres distintos, cada copia ocupará espacio en el disco hasta llenarlo. Esto lo podríamos conseguir cambiando un par de instrucciones en el siguiente código.\n",
    "\n"
   ]
  },
  {
   "cell_type": "code",
   "execution_count": null,
   "metadata": {
    "id": "mNvTv8rbyGTw"
   },
   "outputs": [],
   "source": [
    "# Ejemplo: Programa que escribe 1.000 archivos con el mismo texto\n",
    "i = 0\n",
    "while i < 1000:\n",
    "  nombre_archivo = 'archivo' + str(i) + '.txt'\n",
    "  with open(nombre_archivo, 'w') as archivo:\n",
    "    archivo.write('el mismo texto')\n",
    "  i = i + 1"
   ]
  },
  {
   "cell_type": "markdown",
   "metadata": {
    "id": "nqSGmUAN3Top"
   },
   "source": [
    "# Bibliografía\n",
    "\n",
    "Ceder, V. L. (2010). Using the filesystem. En *The Quick Python Book* (2.a ed., p. 147). Manning Publications.\n",
    "\n",
    "GeeksforGeeks. (2022, 16 mayo). *File Handling in Python*. Recuperado 5 de agosto de 2022, de https://www.geeksforgeeks.org/file-handling-python/\n",
    "\n",
    "Shaw, Z. (2017). Reading files. En *Learn Python 3 the Hard Way* (p. 48). Addison-Wesley."
   ]
  }
 ],
 "metadata": {
  "colab": {
   "provenance": []
  },
  "kernelspec": {
   "display_name": "Python 3",
   "language": "python",
   "name": "python3"
  },
  "language_info": {
   "codemirror_mode": {
    "name": "ipython",
    "version": 3
   },
   "file_extension": ".py",
   "mimetype": "text/x-python",
   "name": "python",
   "nbconvert_exporter": "python",
   "pygments_lexer": "ipython3",
   "version": "3.12.7"
  }
 },
 "nbformat": 4,
 "nbformat_minor": 0
}
