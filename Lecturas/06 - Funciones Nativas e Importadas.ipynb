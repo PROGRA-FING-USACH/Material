{
 "cells": [
  {
   "cell_type": "markdown",
   "metadata": {
    "id": "eYakJtwBHqYG"
   },
   "source": [
    "<p><img src=\"https://progra-fing-usach.github.io/IMGs/logo-fing.png\" alt=\"LogoUSACH\" width=\"40%\" align=\"right\" hspace=\"10px\" vspace=\"0px\"></p>\n",
    "\n",
    "# Funciones nativas e importadas"
   ]
  },
  {
   "cell_type": "markdown",
   "metadata": {
    "id": "u72A6sXa88F7"
   },
   "source": [
    "Las funciones, en programación, corresponden a porciones de código aislado que realizan una determinada tarea. \n",
    "\n",
    "Esto implica que una función es una especie de *\"mini-programa\"*, el cual a partir de alguna(s) entradas, entrega una salida."
   ]
  },
  {
   "cell_type": "markdown",
   "metadata": {
    "id": "zAzwkeKw91U9"
   },
   "source": [
    "En Python existen una gran cantidad de funciones predefinidas y listas para usarse. Estas se llaman **funciones nativas**, dado que son propias del lenguaje de programación. En otras palabras, Python automáticamente entiende a qué nos referimos cuando usamos una de ellas, como por ejemplo, `print()`, `len()` o `input()`.\n",
    "\n",
    "En general, estas funciones resuelven problemas específicos y comunes a la hora de programar, como por ejemplo, determinar la cantidad de elementos en una lista o mostrar un mensaje en la pantalla del usuario. Sin embargo, las funciones nativas no bastan para por sí solas para dar soluciones a problemas específicos. En estos casos, tenemos dos opciones: \n",
    "* Importar funciones que alguien más haya creado, o bien,\n",
    "* Definir nuestras propias funciones.\n",
    "\n",
    "Una de las grandes ventajas de Python es que, dada su popularidad, distintos usuarios han desarrollado múltiples funciones para resolver problemas en particular. Normalmente cuando se crea un conjunto de funciones para resolver algún problema en particular, como por ejemplo, hacer un programa con conexión a internet, estas se empaquetan en una *biblioteca* o **módulo**, y luego se dejan disponibles para que la comunidad pueda usarlas.\n",
    "\n",
    "Existen algunos módulos que fueron creados por los mismos desarrolladores de Python, los cuales podemos **importar** directamente en nuestros programas. Pero también existen módulos desarrollados por otros usuarios y organizaciones (terceros, o *third-parties*) los que deben instalarse para poder usarse. Sin embargo, todas estas funciones se conocen como **funciones importadas**, pues debo \"importarlas\" o *\"traerlas\"* a mi código para poder usarlas.\n",
    "\n",
    "Tanto las funciones nativas como importadas trabajan bajo el concepto de **caja negra**, es decir, podemos usarlas solo conociendo:\n",
    "* El **nombre** que las identifica.\n",
    "* Los parámetros de **entrada** que necesita la función para poder operar (hay funciones que necesitan uno, otras ninguno y otras tienen múltiples parámetros).\n",
    "* La **salida** o el tipo de salida que generan.\n",
    "\n",
    "Conociendo esto, puedo **invocar** a la función, la cual ejecutará un **proceso** encapsulado, es decir, ejecutan una serie de instrucciones hasta obtener una **salida**.\n",
    "\n",
    "Dado que la función siempre ejecutará el proceso, no es necesariamente relevante poder saber **cómo** ejecuta el proceso, sino que solo basta saber **qué** es lo que hace. \n",
    "\n",
    "Por ejemplo: ¿vale la pena saber qué es lo que hace internamente un computador cuando uso un `input()`?\n",
    "\n",
    "* En general no, pues nos basta con saber *qué hace* la función y que la podemos usar. De hecho, la hemos usado todo el curso, sin saber cómo funciona internamente."
   ]
  },
  {
   "cell_type": "markdown",
   "metadata": {
    "id": "hKeWmS4pBUUr"
   },
   "source": [
    "## Funciones Nativas"
   ]
  },
  {
   "cell_type": "markdown",
   "metadata": {
    "id": "htcXvWK_BYos"
   },
   "source": [
    "Las **funciones nativas** (en inglés, *built-in functions*) corresponden a las funciones que están **por defecto en el lenguaje Python.**\n",
    "\n",
    "Estas funciones pueden ser invocadas de manera directa y usarse en el programa sin darles una definición previa.\n",
    "\n",
    "Durante el transcurso del curso, se han visto diversas funciones que ayudan al proceso de buscar la solución a un determinado problema. Existen funciones que sirven para temas generales y otras para operaciones más específicas.\n",
    "\n",
    "Un ejemplo de estas funciones es `len()`, cuyo nombre proviene del inglés \"*length*\". Esta es, precisamente, una **función nativa** que permite contar la cantidad de caracteres o elementos en determinado string o lista, es decir, su largo (\"*its length*\"). Cuando la usamos sobre estos tipos de datos, no necesitamos importar ni definir nada, tan solo llamarla: `len(lista)`."
   ]
  },
  {
   "cell_type": "markdown",
   "metadata": {
    "id": "7VMi2e-TC5oW"
   },
   "source": [
    "A continuación se presentan algunos ejemplos de funciones nativas:"
   ]
  },
  {
   "cell_type": "markdown",
   "metadata": {
    "id": "TxuWGj_kDM6e"
   },
   "source": [
    "\n",
    "|Nombre        |Entrada                 | Salida     | Proceso              |\n",
    "|:------------:|:-----------------------|------------|----------------------| \n",
    "|`int(x)`      |Un número o string  numérico|Un número|Devuelve un número entero| \n",
    "|`float(x)`    |Un número o string  numérico|Un número|Devuelve un número flotante|\n",
    "|`bool(x)`     |Un dato|Un booleano|Devuelve `False` si el dato es vacío, de lo contrario entrega `True`|\n",
    "|`list(x)`     |Un tipo de dato iterable| Una lista|Convierte los datos iterables en elementos de la lista, o, si no hay datos, genera una lista vacía|\n",
    "|`str(x)`      |Un dato|Un string|Convierte el dato en un string|\n",
    "|`abs(x)`      |Un número|Un número|Devuelve el valor absoluto de un número|\n",
    "|`pow(x, y)`   |Dos números|Un número|Equivale a realizar x**y|\n",
    "|`max(x)`      |Un elemento iterable|Un elemento|Devuelve el elemento de mayor valor del elemento iterable|\n",
    "|`min(x)`      |Un elemento iterable|Un elemento|Devuelve el elemento de menor valor del elemento iterable|\n",
    "|`round(x, y)` |Un flotante (x) y un entero (y)|Un flotante|Devuelve el número x redondeado a la cantidad de decimales indicada (y)"
   ]
  },
  {
   "cell_type": "code",
   "execution_count": null,
   "metadata": {
    "colab": {
     "base_uri": "https://localhost:8080/"
    },
    "executionInfo": {
     "elapsed": 221,
     "status": "ok",
     "timestamp": 1654405192487,
     "user": {
      "displayName": "Alfredo Gonzalezf",
      "userId": "10271437243951850394"
     },
     "user_tz": 240
    },
    "id": "eDcE7nReNxRV",
    "outputId": "989ffd17-7810-464e-98ac-e98e5847c0a1"
   },
   "outputs": [
    {
     "name": "stdout",
     "output_type": "stream",
     "text": [
      "número entero 45\n",
      "número flotante 45.0\n",
      "booleano True\n"
     ]
    }
   ],
   "source": [
    "# Entrada\n",
    "numero_string = \"45\"\n",
    "\n",
    "# Procesamiento\n",
    "numero_entero = int(numero_string)\n",
    "numero_flotante = float(numero_string)\n",
    "booleano = bool(numero_string)\n",
    "\n",
    "# Salida\n",
    "print(\"número entero\", numero_entero)\n",
    "print(\"número flotante\", numero_flotante)\n",
    "print(\"booleano\", booleano)"
   ]
  },
  {
   "cell_type": "code",
   "execution_count": 3,
   "metadata": {
    "colab": {
     "base_uri": "https://localhost:8080/"
    },
    "executionInfo": {
     "elapsed": 11,
     "status": "ok",
     "timestamp": 1684636014811,
     "user": {
      "displayName": "Luciano Hidalgo",
      "userId": "01581468828685444889"
     },
     "user_tz": 240
    },
    "id": "DwqYxkQZO-bZ",
    "outputId": "709390c6-db4c-424f-d74d-f8cd0bd9080c"
   },
   "outputs": [
    {
     "name": "stdout",
     "output_type": "stream",
     "text": [
      "número texto 123456789\n",
      "lista de números ['1', '2', '3', '4', '5', '6', '7', '8', '9']\n"
     ]
    }
   ],
   "source": [
    "# Entrada\n",
    "numero = 123456789\n",
    "\n",
    "# Procesamiento\n",
    "numero_texto = str(numero)\n",
    "# Nótese que esta función no se puede aplicar directamente sobre el número:\n",
    "numero_lista = list(numero_texto)\n",
    "\n",
    "# Salida\n",
    "print(\"número texto\", numero_texto)\n",
    "print(\"lista de números\", numero_lista)"
   ]
  },
  {
   "cell_type": "code",
   "execution_count": 4,
   "metadata": {
    "colab": {
     "base_uri": "https://localhost:8080/"
    },
    "executionInfo": {
     "elapsed": 5,
     "status": "ok",
     "timestamp": 1684636015760,
     "user": {
      "displayName": "Luciano Hidalgo",
      "userId": "01581468828685444889"
     },
     "user_tz": 240
    },
    "id": "sFlUDy5yPb_a",
    "outputId": "276e2edb-c13a-453d-98d5-bcba09016180"
   },
   "outputs": [
    {
     "name": "stdout",
     "output_type": "stream",
     "text": [
      "valor absoluto 5\n",
      "potencia 125\n"
     ]
    }
   ],
   "source": [
    "# Entrada\n",
    "numero = -5\n",
    "\n",
    "# Procesamiento\n",
    "numero_absoluto = abs(numero)\n",
    "exponente = pow(numero_absoluto, 3)\n",
    "\n",
    "# Salida\n",
    "print(\"valor absoluto\", numero_absoluto)\n",
    "print(\"potencia\", exponente)"
   ]
  },
  {
   "cell_type": "code",
   "execution_count": 5,
   "metadata": {
    "colab": {
     "base_uri": "https://localhost:8080/"
    },
    "executionInfo": {
     "elapsed": 6,
     "status": "ok",
     "timestamp": 1684636014049,
     "user": {
      "displayName": "Luciano Hidalgo",
      "userId": "01581468828685444889"
     },
     "user_tz": 240
    },
    "id": "JyfzDfxTP7S1",
    "outputId": "b39d214b-4cb3-4f58-a4df-d474a0cabaad"
   },
   "outputs": [
    {
     "name": "stdout",
     "output_type": "stream",
     "text": [
      "valor mínimo 2\n",
      "valor máximo 125\n"
     ]
    }
   ],
   "source": [
    "# Entrada\n",
    "lista_numeros = [4, 58, 6, 3, 125, 7, 5, 2, 8, 64, 65, 10]\n",
    "\n",
    "# Procesamiento\n",
    "elemento_minimo = min(lista_numeros)\n",
    "elemento_maximo = max(lista_numeros)\n",
    "\n",
    "# Salida\n",
    "print(\"valor mínimo\", elemento_minimo)\n",
    "print(\"valor máximo\", elemento_maximo)"
   ]
  },
  {
   "cell_type": "code",
   "execution_count": 6,
   "metadata": {
    "colab": {
     "base_uri": "https://localhost:8080/"
    },
    "executionInfo": {
     "elapsed": 6,
     "status": "ok",
     "timestamp": 1684636014050,
     "user": {
      "displayName": "Luciano Hidalgo",
      "userId": "01581468828685444889"
     },
     "user_tz": 240
    },
    "id": "1mTaHvhCQprc",
    "outputId": "6430d2f9-7060-4e93-bf56-4050e45b0a6e"
   },
   "outputs": [
    {
     "name": "stdout",
     "output_type": "stream",
     "text": [
      "número original 25.4627\n",
      "número redondeado 25.463\n",
      "número redondeado a entero 25\n"
     ]
    }
   ],
   "source": [
    "# Entrada\n",
    "numero = 25.4627\n",
    "\n",
    "# Procesamiento\n",
    "redondear = round(numero, 3)\n",
    "# Si no se da el segundo parámetro, redondea a entero\n",
    "numero_entero = round(numero)\n",
    "\n",
    "# Salida\n",
    "print(\"número original\", numero)\n",
    "print(\"número redondeado\", redondear)\n",
    "print(\"número redondeado a entero\", numero_entero)"
   ]
  },
  {
   "cell_type": "markdown",
   "metadata": {
    "id": "O2Yzqk3FH0Np"
   },
   "source": [
    "El cuadro anterior describe solo algunas de las funciones nativas que Python posee. Para poder conocer una mayor cantidad de este tipo de funciones, se recomienda visitar el siguiente enlace: [Funciones Nativas](https://docs.python.org/es/3.10/library/functions.html)"
   ]
  },
  {
   "cell_type": "markdown",
   "metadata": {
    "id": "Ryp1m8vRIUde"
   },
   "source": [
    "Para ilustrar la ventaja de usar algunas funciones nativas de Python, se presenta el siguiente ejercicio, el cual se resuelve de dos maneras: en primer lugar, usando iteración y luego aprovechando algunas funciones nativas."
   ]
  },
  {
   "cell_type": "markdown",
   "metadata": {
    "id": "zUftlji6IqB5"
   },
   "source": [
    "### Ejercicio"
   ]
  },
  {
   "cell_type": "markdown",
   "metadata": {
    "id": "JmkRxU2yItdi"
   },
   "source": [
    "Se solicita sumar la cantidad de números que se tienen en una lista"
   ]
  },
  {
   "cell_type": "code",
   "execution_count": 7,
   "metadata": {
    "colab": {
     "base_uri": "https://localhost:8080/"
    },
    "executionInfo": {
     "elapsed": 402,
     "status": "ok",
     "timestamp": 1684636108352,
     "user": {
      "displayName": "Luciano Hidalgo",
      "userId": "01581468828685444889"
     },
     "user_tz": 240
    },
    "id": "l2kyxxwdI2pX",
    "outputId": "041b4f2e-7f2d-4e07-bbd0-b4b0047be760"
   },
   "outputs": [
    {
     "name": "stdout",
     "output_type": "stream",
     "text": [
      "\n",
      "La suma de los números ingresados es 45\n"
     ]
    }
   ],
   "source": [
    "# Ejemplo_06: solución utilizando ciclos\n",
    "\n",
    "# Entrada\n",
    "lista_numeros = [1, 2, 3, 4, 5, 6, 7, 8, 9]\n",
    "\n",
    "# Procesamiento\n",
    "i = 0\n",
    "suma = 0\n",
    "\n",
    "while i < len(lista_numeros):\n",
    "  suma = suma + lista_numeros[i]\n",
    "  i = i + 1\n",
    "\n",
    "# Salida\n",
    "print(\"\\nLa suma de los números ingresados es\", suma)"
   ]
  },
  {
   "cell_type": "code",
   "execution_count": 8,
   "metadata": {
    "colab": {
     "base_uri": "https://localhost:8080/"
    },
    "executionInfo": {
     "elapsed": 6,
     "status": "ok",
     "timestamp": 1684636109902,
     "user": {
      "displayName": "Luciano Hidalgo",
      "userId": "01581468828685444889"
     },
     "user_tz": 240
    },
    "id": "yIy-DyEZJySY",
    "outputId": "58bd5db1-e330-4918-8b49-346b671e2394"
   },
   "outputs": [
    {
     "name": "stdout",
     "output_type": "stream",
     "text": [
      "\n",
      "La suma de los números ingresados es 45\n"
     ]
    }
   ],
   "source": [
    "# Ejemplo_07: solución utilizando funciones nativas\n",
    "\n",
    "# Entrada\n",
    "lista_numeros = [1, 2, 3, 4, 5, 6, 7, 8, 9]\n",
    "\n",
    "# Procesamiento\n",
    "suma = sum(lista_numeros)\n",
    "\n",
    "# Salida\n",
    "print(\"\\nLa suma de los números ingresados es\", suma)"
   ]
  },
  {
   "cell_type": "markdown",
   "metadata": {
    "id": "DS6_dVWvSU3q"
   },
   "source": [
    "## Funciones Importadas"
   ]
  },
  {
   "cell_type": "markdown",
   "metadata": {
    "id": "1uf0oyqxSWkm"
   },
   "source": [
    "Dado que las funciones nativas resuelven problemas más o menos generales, para problemas más específicos, es necesario saber cómo trabajar con **módulos**.\n",
    "\n",
    "Las funciones de estos módulos, si bien vienen instaladas junto a Python, no son reconocidas por este automáticamente para poder usarse, por lo que debemos acceder **explícitamente al módulo**  para poder usarlas (esto es así, pues Python es un lenguaje de programación general, bien podríamos hacer un programa para calcular impuestos, como un videojuego: ¿qué sentido tiene tener cargados en la memoria elementos para interfaces gráficas y manejo de elementos 3D, si solo necesitamos operaciones matemáticas sencillas para el cálculo de los impuestos? Sería un desperdicio de recursos)."
   ]
  },
  {
   "cell_type": "markdown",
   "metadata": {
    "id": "I7UayYXFULhx"
   },
   "source": [
    "Un módulo indispensable para un estudiante de ingeniería es `math`, el cual contiene muchas de las funciones matemáticas y trigonométricas que se requieren usualmente.\n",
    "\n",
    "Algunas de las funciones que se pueden encontrar en el módulo `math` son la siguientes:"
   ]
  },
  {
   "cell_type": "markdown",
   "metadata": {
    "id": "3P5ECkbibsOW"
   },
   "source": [
    "|Nombre        |Descripción |\n",
    "|:------------:|:-----------| \n",
    "|`sin(x)`|Obtiene el seno de un ángulo x expresado en radianes|\n",
    "|`cos(x)`|Obtiene el coseno de un ángulo x expresado en radianes|\n",
    "|`tan(x)`|Obtiene la tangente de un ángulo x expresado en radianes|\n",
    "|`exp(x)`|Obtiene el número e elevado a x|\n",
    "|`log(x)`|Obtiene el logaritmo natural (base $e$) de x|\n",
    "|`log10(x)`|Obtiene el logaritmo en base 10 de x|\n",
    "|`sqrt(x)`|Obtiene la raíz cuadrada de x|\n",
    "|`degrees(x)`|Convierte a grados un ángulo x expresado en radianes|\n",
    "|`radians(x)`|Convierte a radianes un ángulo x expresado en grados|"
   ]
  },
  {
   "cell_type": "markdown",
   "metadata": {
    "id": "0k4ZYJC1eWgn"
   },
   "source": [
    "A continuación, se presenta un ejemplo donde se calculará el coseno de un ángulo dado por el usuario:"
   ]
  },
  {
   "cell_type": "code",
   "execution_count": 9,
   "metadata": {
    "colab": {
     "base_uri": "https://localhost:8080/",
     "height": 253
    },
    "executionInfo": {
     "elapsed": 4242,
     "status": "error",
     "timestamp": 1684636432414,
     "user": {
      "displayName": "Luciano Hidalgo",
      "userId": "01581468828685444889"
     },
     "user_tz": 240
    },
    "id": "Qdt-i81mfOgH",
    "outputId": "5c59e0f7-16d7-4c28-eb0d-f38ccb5e3758"
   },
   "outputs": [
    {
     "ename": "NameError",
     "evalue": "name 'radians' is not defined",
     "output_type": "error",
     "traceback": [
      "\u001b[0;31m---------------------------------------------------------------------------\u001b[0m",
      "\u001b[0;31mNameError\u001b[0m                                 Traceback (most recent call last)",
      "Cell \u001b[0;32mIn[9], line 6\u001b[0m\n\u001b[1;32m      2\u001b[0m angulo \u001b[38;5;241m=\u001b[39m \u001b[38;5;28mint\u001b[39m(\u001b[38;5;28minput\u001b[39m(\u001b[38;5;124m\"\u001b[39m\u001b[38;5;124mFavor ingresar ángulo en grados: \u001b[39m\u001b[38;5;124m\"\u001b[39m))\n\u001b[1;32m      4\u001b[0m \u001b[38;5;66;03m# Procesamiento\u001b[39;00m\n\u001b[1;32m      5\u001b[0m \u001b[38;5;66;03m# Se trasforman los grados a radianes\u001b[39;00m\n\u001b[0;32m----> 6\u001b[0m radianes \u001b[38;5;241m=\u001b[39m \u001b[43mradians\u001b[49m(angulo)\n\u001b[1;32m      8\u001b[0m \u001b[38;5;66;03m# calcular coseno del ángulo\u001b[39;00m\n\u001b[1;32m      9\u001b[0m coseno \u001b[38;5;241m=\u001b[39m cos(radianes)\n",
      "\u001b[0;31mNameError\u001b[0m: name 'radians' is not defined"
     ]
    }
   ],
   "source": [
    "# Entrada\n",
    "angulo = int(input(\"Favor ingresar ángulo en grados: \"))\n",
    "\n",
    "# Procesamiento\n",
    "# Se trasforman los grados a radianes\n",
    "radianes = radians(angulo)\n",
    "\n",
    "# calcular coseno del ángulo\n",
    "coseno = cos(radianes)\n",
    "\n",
    "# Salida\n",
    "print(\"El coseno del ángulo\", angulo, \"es de\", coseno)"
   ]
  },
  {
   "cell_type": "markdown",
   "metadata": {
    "id": "4hJnkJ3Og7Ix"
   },
   "source": [
    "El error del **Ejemplo** se genera producto de que no se ha indicado a Python que tanto la función `radians()` como la función `cos()` pertenecen al módulo `math`, el cual debe ser importado."
   ]
  },
  {
   "cell_type": "markdown",
   "metadata": {
    "id": "IknxrbHYhTMa"
   },
   "source": [
    "### Importar Funciones"
   ]
  },
  {
   "cell_type": "markdown",
   "metadata": {
    "id": "1Tcp2u1_hWUh"
   },
   "source": [
    "Para realizar la importanción de funciones se pueden utilizar 4 alternativas:\n",
    "\n",
    "1.   Importar  solo el módulo ✔️\n",
    "2.   Importar el módulo con un alias ✔️\n",
    "3.   Importar solo las funciones requeridas del módulo ✔️\n",
    "4.   Importar todas las funciones del módulo ❌"
   ]
  },
  {
   "cell_type": "markdown",
   "metadata": {
    "id": "rBZuJKPQib3P"
   },
   "source": [
    "#### 1. Importar  solo el módulo"
   ]
  },
  {
   "cell_type": "markdown",
   "metadata": {
    "id": "498hw_aWihv2"
   },
   "source": [
    "Al realizar la importación de esta manera, se pueden utilizar todas las funciones del módulo importado siempre que se haga referencia al módulo de origen al momento de utilizar la función. Esto se consigue mediante la utilización de la palabra reservada **`import`**.\n",
    "\n",
    "```python\n",
    "import <modulo>\n",
    "\n",
    "<modulo>.funcion(<parametros>)\n",
    "```\n",
    "\n",
    "Para ilustrar este uso, se corrige el programa del ejemplo anterior."
   ]
  },
  {
   "cell_type": "code",
   "execution_count": 11,
   "metadata": {
    "colab": {
     "base_uri": "https://localhost:8080/"
    },
    "executionInfo": {
     "elapsed": 24317,
     "status": "ok",
     "timestamp": 1684636428180,
     "user": {
      "displayName": "Luciano Hidalgo",
      "userId": "01581468828685444889"
     },
     "user_tz": 240
    },
    "id": "HGmBUI5LjERo",
    "outputId": "0d28bf1c-db49-4cd0-8dc6-3e9dd971b6b9"
   },
   "outputs": [
    {
     "name": "stdout",
     "output_type": "stream",
     "text": [
      "El coseno del ángulo 45 es de 0.7071067811865476\n"
     ]
    }
   ],
   "source": [
    "#Importación de Funciones\n",
    "import math\n",
    "\n",
    "# Entrada\n",
    "angulo = int(input(\"Favor ingresar ángulo en grados: \"))\n",
    "\n",
    "# Procesamiento\n",
    "# Se trasforman los grados a radianes\n",
    "radianes = math.radians(angulo)\n",
    "\n",
    "# Calcular coseno del ángulo\n",
    "coseno = math.cos(radianes)\n",
    "\n",
    "# Salida\n",
    "print(\"El coseno del ángulo\", angulo, \"es de\", coseno)"
   ]
  },
  {
   "cell_type": "markdown",
   "metadata": {
    "id": "GY26QlYcldNt"
   },
   "source": [
    "#### 2. Importar el módulo con un alias"
   ]
  },
  {
   "cell_type": "markdown",
   "metadata": {
    "id": "Zt0qLvqilvP2"
   },
   "source": [
    "En este tipo de importación, se utiliza un alias (\"sobrenombre\") para llamar al módulo importado. De esta manera, se pueden utilizar todas las funciones siempre y cuando, al momento de llamarlas, se anteponga el alias a cada función. Esto se consigue mediante la utilización de la palabra reservada **`import`** en combinación con **`as`**.\n",
    "\n",
    "```\n",
    "import <modulo> as <alias>\n",
    "\n",
    "<alias>.funcion(<parametro>)\n",
    "```\n",
    "\n",
    "Usando el mismo ejemplo:"
   ]
  },
  {
   "cell_type": "code",
   "execution_count": 9,
   "metadata": {
    "colab": {
     "base_uri": "https://localhost:8080/"
    },
    "executionInfo": {
     "elapsed": 3320,
     "status": "ok",
     "timestamp": 1684636449603,
     "user": {
      "displayName": "Luciano Hidalgo",
      "userId": "01581468828685444889"
     },
     "user_tz": 240
    },
    "id": "8sLbnWVKm7li",
    "outputId": "582c7092-e892-4ed5-a279-26137cd856d4"
   },
   "outputs": [
    {
     "name": "stdout",
     "output_type": "stream",
     "text": [
      "Favor ingresar ángulo en grados: 45\n",
      "El coseno del ángulo 45 es de 0.7071067811865476\n"
     ]
    }
   ],
   "source": [
    "# Importación de Funciones\n",
    "import math as m\n",
    "\n",
    "# Entrada\n",
    "angulo = int(input(\"Favor ingresar ángulo en grados: \"))\n",
    "\n",
    "# Procesamiento\n",
    "# Se trasforman los grados a radianes\n",
    "radianes = m.radians(angulo)\n",
    "\n",
    "# Calcular coseno del ángulo\n",
    "coseno = m.cos(radianes)\n",
    "\n",
    "# Salida\n",
    "print(\"El coseno del ángulo\", angulo, \"es de\", coseno)"
   ]
  },
  {
   "cell_type": "markdown",
   "metadata": {},
   "source": [
    "Los alias sirven especialmente en ocasiones en las que el nombre de un módulo es muy grande, estamos importando un submódulo o hacemos referencia a algo de manera muy seguida. Es posible que algunas convenciones utilicen alias clásicos, como por ejemplo, es común (aunque no frecuente) encontrar el módulo `math` bajo el alias mostrado en el ejemplo, `m`; o el módulo para realizar gráficos, `matplotlib` (que no viene con Python y debe instalarse aparte), que tiene un submódulo llamado `pyplot` que define las principales interfaces y funciones para graficar, se suele abreviar con la línea:\n",
    "```python\n",
    "import matplotlib.pyplot as plt\n",
    "```"
   ]
  },
  {
   "cell_type": "markdown",
   "metadata": {
    "id": "Z8P1Nsj_nGR2"
   },
   "source": [
    "#### 3. Importar solo las funciones requeridas del módulo"
   ]
  },
  {
   "cell_type": "markdown",
   "metadata": {
    "id": "w5u4h2gAnMNg"
   },
   "source": [
    "Al realizar la importación de esta manera, no se requiere hacer mención al módulo de origen. No obstante, solo se pueden utilizar directamente las funciones indicadas al momento de realizar la importación. Esto se consigue mediante la utilización de las palabras reservadas **`from`** e **`import`**.\n",
    "\n",
    "```\n",
    "from <modulo> import <función1>, <función2>, <función3,...>\n",
    "```\n",
    "\n",
    "En este caso, el ejemplo original quedaría como:"
   ]
  },
  {
   "cell_type": "code",
   "execution_count": 12,
   "metadata": {
    "colab": {
     "base_uri": "https://localhost:8080/"
    },
    "executionInfo": {
     "elapsed": 18915,
     "status": "ok",
     "timestamp": 1684636500749,
     "user": {
      "displayName": "Luciano Hidalgo",
      "userId": "01581468828685444889"
     },
     "user_tz": 240
    },
    "id": "BYM8_Rw7oCoY",
    "outputId": "39206376-a9ca-4470-8575-c0e5cc3332e8"
   },
   "outputs": [
    {
     "name": "stdout",
     "output_type": "stream",
     "text": [
      "El coseno del ángulo 45 es de 0.7071067811865476\n"
     ]
    }
   ],
   "source": [
    "# Importación de Funciones\n",
    "from math import radians, cos\n",
    "\n",
    "# Entrada\n",
    "angulo = int(input(\"Favor ingresar ángulo en grados: \"))\n",
    "\n",
    "# Procesamiento\n",
    "# Se trasforman los grados a radianes\n",
    "radianes = radians(angulo)\n",
    "\n",
    "# Calcular coseno del ángulo\n",
    "coseno = cos(radianes)\n",
    "\n",
    "# Salida\n",
    "print(\"El coseno del ángulo\", angulo, \"es de\", coseno)"
   ]
  },
  {
   "cell_type": "markdown",
   "metadata": {
    "id": "MEOFr4E_D0cw"
   },
   "source": [
    "Esta forma de importar debe ser utilizada con cuidado, pues, como se ve, las funciones son llamadas como si fuesen funciones nativas y si no tenemos cuidado, podemos reemplazar variables locales u otras importaciones."
   ]
  },
  {
   "cell_type": "markdown",
   "metadata": {
    "id": "d0_6LKaYolcT"
   },
   "source": [
    "#### 4. Importar todas las funciones del módulo"
   ]
  },
  {
   "cell_type": "markdown",
   "metadata": {
    "id": "bPTZ37GdoqgO"
   },
   "source": [
    "En este tipo de importación, no se requiere hacer referencias al módulo de origen y se pueden utilizar directamente todas las funciones del módulo importado. Esto se consigue mediante la utilización de las palabras reservadas **`from`** e **`import`** más un `*`.\n",
    "\n",
    "```\n",
    "from <modulo> import *\n",
    "```"
   ]
  },
  {
   "cell_type": "code",
   "execution_count": 13,
   "metadata": {
    "colab": {
     "base_uri": "https://localhost:8080/"
    },
    "executionInfo": {
     "elapsed": 4100,
     "status": "ok",
     "timestamp": 1684636571290,
     "user": {
      "displayName": "Luciano Hidalgo",
      "userId": "01581468828685444889"
     },
     "user_tz": 240
    },
    "id": "vmdVH4WypVAU",
    "outputId": "cc7e929d-577a-4fed-d9b8-9dbcd03fa6cc"
   },
   "outputs": [
    {
     "name": "stdout",
     "output_type": "stream",
     "text": [
      "El coseno del ángulo 90 es de 6.123233995736766e-17\n"
     ]
    }
   ],
   "source": [
    "# Importación de Funciones\n",
    "from math import *\n",
    "\n",
    "# Entrada\n",
    "angulo = int(input(\"Favor ingresar ángulo en grados: \"))\n",
    "\n",
    "# Procesamiento\n",
    "# Se trasforman los grados a radianes\n",
    "radianes = radians(angulo)\n",
    "\n",
    "# calcular coseno del ángulo\n",
    "coseno = cos(radianes)\n",
    "\n",
    "# Salida\n",
    "print(\"El coseno del ángulo\", angulo, \"es de\", coseno)"
   ]
  },
  {
   "cell_type": "markdown",
   "metadata": {
    "id": "vWYxgyOlD0cy"
   },
   "source": [
    "Este mecanismo **debe evitarse**, pues genera problemas de alcance (o *scope*) pues, como normalmente los módulos poseen múltiples funciones, si importo con este método más de un módulo, podría encontrarme con dos funciones con el mismo nombre o también con módulos que tienen funciones o constantes con el mismo nombre que mis variables, y Python no podría resolver ese llamado correctamente. **En general este mecanismo existe pero se considera una mala práctica de programación, por lo que se recomienda no usarlo bajo ningún contexto.**"
   ]
  },
  {
   "cell_type": "markdown",
   "metadata": {
    "id": "fn-0UGNyD0cy"
   },
   "source": [
    "#### Módulo `random`"
   ]
  },
  {
   "cell_type": "markdown",
   "metadata": {
    "id": "6vdJqN09qwGq"
   },
   "source": [
    "Otro módulo útil que Python trae por defecto es **`random`**, el cual permite la generación de números pseudoaleatorios (es decir, que se genera con un método que *parece* aleatorio).\n",
    "\n",
    "Alguna de las funciones que podemos usar se presentan a continuación:"
   ]
  },
  {
   "cell_type": "markdown",
   "metadata": {
    "id": "zroIpyzLrx2p"
   },
   "source": [
    "|Nombre        |Descripción |\n",
    "|:------------:|:-----------| \n",
    "|`randint(x, y)`|Devuelve un numero entero pseudoaleatorio entre los valores indicados (ambos valores inclusive)|\n",
    "|`choice(l)`|Obtiene un elemento pseudoaleatorio de un tipo de dato iterable|\n",
    "|`shuffle(l)`|Cambia el orden *in situ* de los elementos que conforman un tipo de dato iterable|\n",
    "|`random()`|Devuelve un número flotante pseudoaleatorio entre 0 y 1, sin incluir el 1 |"
   ]
  },
  {
   "cell_type": "code",
   "execution_count": 14,
   "metadata": {
    "colab": {
     "base_uri": "https://localhost:8080/"
    },
    "executionInfo": {
     "elapsed": 6,
     "status": "ok",
     "timestamp": 1684636970566,
     "user": {
      "displayName": "Luciano Hidalgo",
      "userId": "01581468828685444889"
     },
     "user_tz": 240
    },
    "id": "js7iFAEVs13y",
    "outputId": "95488440-524d-463b-e5e7-31dcd9824631"
   },
   "outputs": [
    {
     "name": "stdout",
     "output_type": "stream",
     "text": [
      "número pseudoaleatorio 9\n",
      "\n",
      "letra pseudoaleatoria o\n"
     ]
    }
   ],
   "source": [
    "# Importación de Funciones\n",
    "from random import randint, choice\n",
    "\n",
    "# Entrada\n",
    "numero_inicial = 3\n",
    "numero_final = 10\n",
    "letras = \"lgtiqbcgdio\"\n",
    "\n",
    "# Procesamiento\n",
    "numero_aleatorio = randint(numero_inicial, numero_final)\n",
    "letra_aleatoria = choice(letras)\n",
    "\n",
    "# Salida\n",
    "print(\"número pseudoaleatorio\", numero_aleatorio)\n",
    "print(\"\\nletra pseudoaleatoria\", letra_aleatoria)"
   ]
  },
  {
   "cell_type": "code",
   "execution_count": 15,
   "metadata": {
    "colab": {
     "base_uri": "https://localhost:8080/"
    },
    "executionInfo": {
     "elapsed": 369,
     "status": "ok",
     "timestamp": 1684636967605,
     "user": {
      "displayName": "Luciano Hidalgo",
      "userId": "01581468828685444889"
     },
     "user_tz": 240
    },
    "id": "a9NtyUfxvR_V",
    "outputId": "6fd533f9-e973-4c5a-e534-2afd2745c9cb"
   },
   "outputs": [
    {
     "name": "stdout",
     "output_type": "stream",
     "text": [
      "Lista vocales pseudoaleatorio ['e', 'i', 'o', 'a', 'u']\n",
      "\n",
      "Número pseudoaleatorio 0.541937815026746\n"
     ]
    }
   ],
   "source": [
    "\n",
    "# Importación de Funciones\n",
    "from random import shuffle, random\n",
    "\n",
    "# Entrada\n",
    "vocales = [\"a\", \"e\", \"i\", \"o\", \"u\"]\n",
    "\n",
    "# Procesamiento\n",
    "# Nótese que shuffle no produce salida, sino que modifica la lista internamente\n",
    "shuffle(vocales)\n",
    "numero_aleatorio = random()\n",
    "\n",
    "# Salida\n",
    "print(\"Lista vocales pseudoaleatorio\", vocales)\n",
    "print(\"\\nNúmero pseudoaleatorio\", numero_aleatorio)"
   ]
  },
  {
   "cell_type": "markdown",
   "metadata": {
    "id": "Nmynv3p-MFP1"
   },
   "source": [
    "Usamos el término *pseudoaleatorio* y no aleatorio, debido a que, cuando un computador ejecuta un proceso (aún el de escoger un número *al azar*), este comportamiento no puede ser aleatorio. Dado que los computadores son dispositivos determinísticos, es decir, su comportamiento es **completamente predecible**, en la práctica resulta extermadamente difícil que hagan una elección al azar.\n",
    "\n",
    "Por ello, los procesos que generan números pseudoaleatorios, en la práctica son algoritmos matemáticos cuyas salidas son *suficientemente difíciles* de predecir, pero que, si tenemos suficientes datos, podemos predecir con absoluta certeza. Como la aleatoreidad es muy importante, por ejemplo, en criptografía, siempre se están usando técnicas para aumentar la aleatoreidad de los valores, como por ejemplo, el mecanismo que utiliza [Cloudflare](https://www.cloudflare.com/es-es/learning/ssl/lava-lamp-encryption/)."
   ]
  },
  {
   "cell_type": "markdown",
   "metadata": {
    "id": "7BOOdsGzxtf9"
   },
   "source": [
    "### Buenas Prácticas en Importaciones"
   ]
  },
  {
   "cell_type": "markdown",
   "metadata": {
    "id": "X0-LSDSBx3qk"
   },
   "source": [
    "Se debe tener presente que, para efectos de este curso introductorio a la programación, se consideran válidas las opciones 1,2 y 3 de importación. \n",
    "\n",
    "Otra cosas a considerar son las siguientes:\n",
    "* Las importaciones de módulos siempre deben ser las **primeras líneas del código funcionales del código** (después de los comentarios con la identificación del programa). Esto se debe a que cuando alguien quiera usar el programa debe ser capaz de identificar las dependencias que este pueda tener con otros **módulos**.\n",
    "\n",
    "* Si se importa más de un módulo, estas importaciones deben ser siempre iguales, vale decir, **deben importarse con la misma sintaxis**.\n",
    "\n",
    "* Cada módulo a importar debe ir en una **línea separada**.\n",
    "    ```python\n",
    "    import random\n",
    "    import math\n",
    "    ```\n",
    "* Si se importan varias funciones de un mismo módulo, estas pueden ir separadas por comas.\n",
    "    ```python\n",
    "    from math import sin, cos, tan\n",
    "    ```"
   ]
  },
  {
   "cell_type": "markdown",
   "metadata": {
    "id": "pQxW4kYxzJqF"
   },
   "source": [
    "### Módulos Externos"
   ]
  },
  {
   "cell_type": "markdown",
   "metadata": {
    "id": "kfadQ2HXzMk8"
   },
   "source": [
    "Junto con Python, normalmente se instalan varios módulos pertenecientes a la **biblioteca estándar de Python**. No obstante, esos no son todos los módulos existentes, puesto que varios usuarios (y a veces organizaciones como Google o Facebook) han creado, y disponibilizado a la comunidad, sus propios módulos que facilitan la realización de algunas tareas en específico.\n",
    "\n",
    "Por lo anterior, estos módulos no vienen incorporados con el intérprete de Python y deben ser instalados de manera manual. Principalmente existen dos mecanismos para realizar la instalación: si el módulo ha sido compartido con un programa instalador, conviene seguir las instrucciones de este, pero, en general, los módulos pueden ser manejados con el programa `pip`."
   ]
  },
  {
   "cell_type": "markdown",
   "metadata": {},
   "source": [
    "#### Instalación de Módulos con `pip`"
   ]
  },
  {
   "cell_type": "markdown",
   "metadata": {},
   "source": [
    "El programa `pip` es el instalador de módulos preferido para Python y ha sido diseñado para utilizarse desde la línea de comandos del sistema (la \"consola del sistema\", como CMD o PowerShell, en Windows; bash, tsh, zsh, csh, etc., en Linux u otros sistemas basados en Unix, etc.). En Windows, la consola se puede acceder abriendo el menú inicio con el botón de Windows (el que tiene el logo del sistema) y escribiendo \"cmd\", o bien \"powershell\", según la preferencia, y ejecutando la opción que se despliega. Alternativamente, con la combinación de botones Windows + R, se abre el cuadro de diálogo de \"Ejecutar\" de Windows, donde podemos escribir directamente el nombre del programa cmd y ejecutarlo.\n",
    "\n",
    "Una vez en la consola del sistema, debemos ejecutar el comando con la siguiente sintaxis:\n",
    "```cmd\n",
    "C:\\> pip install <módulo> \n",
    "```\n",
    "donde `<módulo>` se reemplaza con el nombre del módulo a instalar. En el contexto de ejecutar instrucciones en un computador, cuando escribimos \"`C:\\>`\", nos referimos a comandos que van en la consola de Windows. El mensaje exacto que esta muestra puede variar, según el sistema en el que estemos o la carpeta seleccionada. Por ejemplo:\n",
    "\n",
    "```cmd\n",
    "C:\\> pip install matplotlib\n",
    "```\n",
    "\n",
    "Instalará la biblioteca [`matplotlib`](https://matplotlib.org/), una biblioteca de visualización de datos ampliamente usada por la comunidad científica e ingenieril. Esta biblioteca requiere de otras para funcionar: el mismo `pip` se encarga de buscar cuáles son, cuáles no están instaladas en nuestro sistema, e instalarlas, si hiciera falta. Una vez instalada la biblioteca, quedará disponible para acceder a ella como cualquier otra:\n",
    "\n",
    "```python\n",
    "import matplotlib.pyplot as plt\n",
    "```"
   ]
  },
  {
   "cell_type": "markdown",
   "metadata": {},
   "source": [
    "#### Requisitos para utilizar `pip`"
   ]
  },
  {
   "cell_type": "markdown",
   "metadata": {},
   "source": [
    "El programa `pip` se puede utilizar como hemos señalado acá si se cumplen tres condiciones:\n",
    "1. Que esté instalado como parte de Python (el instalador tiene una opción que chequear para instalarlo, pero viene seleccionado en las opciones por defecto).\n",
    "2. Que tengamos conexión a internet (pues busca los módulos *online*).\n",
    "3. Que hayamos instalado Python agregándolo al `PATH` (también es de las opciones del instalador).\n",
    "\n",
    "Este último paso lo podemos confirmar directamente cuando chequeamos la casilla que dice \"Add Python <versión> to `PATH`\". Una vez cumplidos estos requisitos, podremos instalar los módulos que necesitemos.\n",
    "\n",
    "Si te preguntas qué es `PATH`, es una *variable de entorno*, variables que manejan los sistemas operativos para almacenar ciertos parámetros para ejecutar sus labores o los programas. En particular, la variable `PATH` contiene la lista de carpetas donde el sistema buscará los programas que ejecutemos en la consola."
   ]
  },
  {
   "cell_type": "markdown",
   "metadata": {
    "id": "suPN_vfmD0c4"
   },
   "source": [
    "# Bibliografía\n",
    "\n",
    "## Funciones nativas\n",
    "\n",
    "Python Software Foundation. (2022a, 4 agosto). *Built-in Functions*. Python 3.10.6 documentation. Recuperado 4 de agosto de 2022, de https://docs.python.org/3/library/functions.html\n",
    "\n",
    "## Módulos\n",
    "\n",
    "Ceder, V. L. (2010). The import statement. En *The Quick Python Book* (2.a ed., p. 119). Manning Publications.\n",
    "\n",
    "GeeksforGeeks. (2022, 26 julio). *Import module in Python*. Recuperado 4 de agosto de 2022, de https://www.geeksforgeeks.org/import-module-python/\n",
    "\n",
    "Python Software Foundation. (2022b, agosto 4). *Modules*. Python 3.10.6 documentation. Recuperado 4 de agosto de 2022, de https://docs.python.org/3/tutorial/modules.html\n",
    "\n",
    "## Aleatoriedad y Pseudoaleatoriedad\n",
    "Computer Hope (2020, diciembre 31). *Pseudorandom*. Dictionary. Recuperado el 16 de abril de 2023, de: https://www.computerhope.com/jargon/p/pseudo-random.htm.\n",
    "\n",
    "## Biblioteca estándar de Python\n",
    "\n",
    "Python Software Foundation. (2022c, agosto 4). *The Python Standard Library*. Python 3.10.6 documentation. Recuperado 4 de agosto de 2022, de https://docs.python.org/3/library/index.html\n",
    "\n",
    "## Formato y buenas prácticas\n",
    "Van Rossum, G., Warsaw, B., & Coghlan, N. (2001, 21 julio). *PEP 8 – Style Guide for Python Code*. Python Enhancement Proposals. Recuperado 1 de agosto de 2022, de https://peps.python.org/pep-0008/#imports"
   ]
  }
 ],
 "metadata": {
  "colab": {
   "provenance": []
  },
  "kernelspec": {
   "display_name": "Python 3",
   "language": "python",
   "name": "python3"
  },
  "language_info": {
   "codemirror_mode": {
    "name": "ipython",
    "version": 3
   },
   "file_extension": ".py",
   "mimetype": "text/x-python",
   "name": "python",
   "nbconvert_exporter": "python",
   "pygments_lexer": "ipython3",
   "version": "3.12.6"
  }
 },
 "nbformat": 4,
 "nbformat_minor": 0
}
